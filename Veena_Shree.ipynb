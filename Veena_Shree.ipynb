{
  "nbformat": 4,
  "nbformat_minor": 0,
  "metadata": {
    "colab": {
      "name": "Veena Shree.ipynb",
      "provenance": [],
      "collapsed_sections": []
    },
    "kernelspec": {
      "name": "python3",
      "display_name": "Python 3"
    },
    "language_info": {
      "name": "python"
    }
  },
  "cells": [
    {
      "cell_type": "code",
      "metadata": {
        "colab": {
          "base_uri": "https://localhost:8080/"
        },
        "id": "tIS38-pjZiYo",
        "outputId": "0b328a67-ebc5-4468-fcb8-42afcce1ed2d"
      },
      "source": [
        "%%writefile swap.cpp\n",
        "\n",
        "//Program to Swap Two numbers:-\n",
        "\n",
        "#include <iostream>\n",
        "\n",
        "using namespace std;\n",
        "\n",
        "void swap(int &x, int &y){\n",
        "    int temp = x;\n",
        "    x = y;\n",
        "    y= temp;\n",
        "}\n",
        "\n",
        "int main()\n",
        "{\n",
        "    int a = 10;\n",
        "    int b = 8;\n",
        "    \n",
        "   \n",
        "   cout << \"In main function Before Swapping\" << endl; \n",
        "   \n",
        "   cout << a <<\" \" << b << endl; \n",
        "   \n",
        "   swap(a, b);\n",
        "   \n",
        "   cout << \"In main function Before Swapping\" << endl; \n",
        "   \n",
        "   cout << a <<\" \" << b << endl; \n",
        "   \n",
        "}"
      ],
      "execution_count": null,
      "outputs": [
        {
          "output_type": "stream",
          "name": "stdout",
          "text": [
            "Overwriting swap.cpp\n"
          ]
        }
      ]
    },
    {
      "cell_type": "code",
      "metadata": {
        "colab": {
          "base_uri": "https://localhost:8080/"
        },
        "id": "F2ATYFmGaKEs",
        "outputId": "5133b6b5-8a38-4932-b0f5-81b79c2c0557"
      },
      "source": [
        "%%shell\n",
        "\n",
        "g++ swap.cpp -o output\n",
        "./output"
      ],
      "execution_count": null,
      "outputs": [
        {
          "output_type": "stream",
          "name": "stdout",
          "text": [
            "In main function Before Swapping\n",
            "10 8\n",
            "In main function Before Swapping\n",
            "8 10\n"
          ]
        },
        {
          "output_type": "execute_result",
          "data": {
            "text/plain": [
              ""
            ]
          },
          "metadata": {},
          "execution_count": 5
        }
      ]
    },
    {
      "cell_type": "code",
      "metadata": {
        "id": "M-aYrKnsrs8N",
        "colab": {
          "base_uri": "https://localhost:8080/"
        },
        "outputId": "a2c8ea84-ddc9-49db-dbd5-1c7f890318d6"
      },
      "source": [
        " \n",
        " %%writefile largestno.cpp\n",
        "\n",
        " //program to find largest number among the user entered numbers:-\n",
        "\n",
        " #include <iostream>\n",
        "\n",
        "using namespace std;\n",
        "\n",
        "int main() {    \n",
        "    float n1, n2, n3;\n",
        "\n",
        "    cout << \"Enter three numbers: \";\n",
        "    cin >> n1 >> n2 >> n3;\n",
        "\n",
        "    if(n1 >= n2 && n1 >= n3)\n",
        "        cout << \"Largest number: \" << n1;\n",
        "\n",
        "    if(n2 >= n1 && n2 >= n3)\n",
        "        cout << \"Largest number: \" << n2;\n",
        "    \n",
        "    if(n3 >= n1 && n3 >= n2)\n",
        "        cout << \"Largest number: \" << n3;\n",
        "  \n",
        "    return 0;\n",
        "}"
      ],
      "execution_count": null,
      "outputs": [
        {
          "output_type": "stream",
          "name": "stdout",
          "text": [
            "Overwriting largestno.cpp\n"
          ]
        }
      ]
    },
    {
      "cell_type": "code",
      "metadata": {
        "colab": {
          "base_uri": "https://localhost:8080/"
        },
        "id": "tkp-5QXX4EQj",
        "outputId": "cbe39379-31cc-4c0b-c501-4cca2c19c662"
      },
      "source": [
        "%%shell\n",
        "\n",
        "g++ largestno.cpp -o output\n",
        "./output"
      ],
      "execution_count": null,
      "outputs": [
        {
          "output_type": "stream",
          "name": "stdout",
          "text": [
            "Enter three numbers: 9.5\n",
            "8\n",
            "111\n",
            "Largest number: 111"
          ]
        },
        {
          "output_type": "execute_result",
          "data": {
            "text/plain": [
              ""
            ]
          },
          "metadata": {},
          "execution_count": 11
        }
      ]
    },
    {
      "cell_type": "code",
      "metadata": {
        "colab": {
          "base_uri": "https://localhost:8080/"
        },
        "id": "JlO_crvl4iQJ",
        "outputId": "fbe88037-c4cc-445a-9943-ad7f6ab548df"
      },
      "source": [
        " %%writefile leapyear.cpp\n",
        "\n",
        "/*program to Chech wethear a user entered year is leap year or not:-*/\n",
        "\n",
        "#include <iostream>\n",
        "\n",
        "using namespace std;\n",
        "\n",
        "int main() {\n",
        "    int year;\n",
        "\n",
        "    cout << \"Enter a year: \";\n",
        "    cin >> year;\n",
        "\n",
        "    if (year % 4 == 0) {\n",
        "        if (year % 100 == 0) {\n",
        "            if (year % 400 == 0)\n",
        "                cout << year << \" is a leap year.\";\n",
        "            else\n",
        "                cout << year << \" is not a leap year.\";\n",
        "        }\n",
        "        else\n",
        "            cout << year << \" is a leap year.\";\n",
        "    }\n",
        "    else\n",
        "        cout << year << \" is not a leap year.\";\n",
        "\n",
        "    return 0;\n",
        "}"
      ],
      "execution_count": 17,
      "outputs": [
        {
          "output_type": "stream",
          "name": "stdout",
          "text": [
            "Overwriting leapyear.cpp\n"
          ]
        }
      ]
    },
    {
      "cell_type": "code",
      "metadata": {
        "colab": {
          "base_uri": "https://localhost:8080/"
        },
        "id": "9nKdRu5O4maP",
        "outputId": "59fb5bfa-2562-43ba-d953-0b8db6d478b0"
      },
      "source": [
        "%%shell\n",
        "\n",
        "g++ leapyear.cpp -o output\n",
        "./output"
      ],
      "execution_count": 18,
      "outputs": [
        {
          "output_type": "stream",
          "name": "stdout",
          "text": [
            "Enter a year: 2014\n",
            "2014 is not a leap year."
          ]
        },
        {
          "output_type": "execute_result",
          "data": {
            "text/plain": [
              ""
            ]
          },
          "metadata": {},
          "execution_count": 18
        }
      ]
    },
    {
      "cell_type": "code",
      "metadata": {
        "colab": {
          "base_uri": "https://localhost:8080/"
        },
        "id": "ahRV2qDS6eyo",
        "outputId": "c8557e59-511c-4753-929d-5ca59da99475"
      },
      "source": [
        "%%shell\n",
        "\n",
        "g++ leapyear.cpp -o output\n",
        "./output"
      ],
      "execution_count": null,
      "outputs": [
        {
          "output_type": "stream",
          "name": "stdout",
          "text": [
            "Enter a year: 2012\n",
            "2012 is a leap year."
          ]
        },
        {
          "output_type": "execute_result",
          "data": {
            "text/plain": [
              ""
            ]
          },
          "metadata": {},
          "execution_count": 15
        }
      ]
    },
    {
      "cell_type": "code",
      "metadata": {
        "id": "rsZdZGP86mtv",
        "colab": {
          "base_uri": "https://localhost:8080/"
        },
        "outputId": "38f4323d-beb4-4817-9888-3831d460a884"
      },
      "source": [
        "%%writefile Fibonacci.cpp\n",
        "\n",
        "\n",
        "#include <iostream>\n",
        "using namespace std;\n",
        "\n",
        "int main() {\n",
        "    int n, t1 = 0, t2 = 1, nextTerm = 0;\n",
        "\n",
        "    cout << \"Enter the number of terms: \";\n",
        "    cin >> n;\n",
        "\n",
        "    cout << \"Fibonacci Series: \";\n",
        "\n",
        "    for (int i = 1; i <= n; ++i) {\n",
        "        // Prints the first two terms.\n",
        "        if(i == 1) {\n",
        "            cout << t1 << \", \";\n",
        "            continue;\n",
        "        }\n",
        "        if(i == 2) {\n",
        "            cout << t2 << \", \";\n",
        "            continue;\n",
        "        }\n",
        "        nextTerm = t1 + t2;\n",
        "        t1 = t2;\n",
        "        t2 = nextTerm;\n",
        "        \n",
        "        cout << nextTerm << \", \";\n",
        "    }\n",
        "    return 0;\n",
        "}"
      ],
      "execution_count": 22,
      "outputs": [
        {
          "output_type": "stream",
          "name": "stdout",
          "text": [
            "Writing Fibonacci.cpp\n"
          ]
        }
      ]
    },
    {
      "cell_type": "code",
      "metadata": {
        "id": "lEjGY4hl76Zy",
        "colab": {
          "base_uri": "https://localhost:8080/"
        },
        "outputId": "5c2fd110-c460-4244-98e5-4182f9692f2d"
      },
      "source": [
        "%%shell\n",
        "\n",
        "g++ Fibonacci.cpp -o output\n",
        "./output"
      ],
      "execution_count": 24,
      "outputs": [
        {
          "output_type": "stream",
          "name": "stdout",
          "text": [
            "Enter the number of terms: 10\n",
            "Fibonacci Series: 0, 1, 1, 2, 3, 5, 8, 13, 21, 34, "
          ]
        },
        {
          "output_type": "execute_result",
          "data": {
            "text/plain": [
              ""
            ]
          },
          "metadata": {},
          "execution_count": 24
        }
      ]
    },
    {
      "cell_type": "code",
      "metadata": {
        "colab": {
          "base_uri": "https://localhost:8080/"
        },
        "id": "XusHrIqqE37c",
        "outputId": "600b474f-ab14-487d-bea2-e65ba23d1bfa"
      },
      "source": [
        "\n",
        "%%writefile prime.cpp\n",
        "\n",
        "#include <iostream>\n",
        "using namespace std;\n",
        "\n",
        "int main() {\n",
        "    int i, n;\n",
        "    bool isPrime = true;\n",
        "\n",
        "    cout << \"Enter a positive integer: \";\n",
        "    cin >> n;\n",
        "\n",
        "    // 0 and 1 are not prime numbers\n",
        "    if (n == 0 || n == 1) {\n",
        "        isPrime = false;\n",
        "    }\n",
        "    else {\n",
        "        for (i = 2; i <= n / 2; ++i) {\n",
        "            if (n % i == 0) {\n",
        "                isPrime = false;\n",
        "                break;\n",
        "            }\n",
        "        }\n",
        "    }\n",
        "    if (isPrime)\n",
        "        cout << n << \" is a prime number\";\n",
        "    else\n",
        "        cout << n << \" is not a prime number\";\n",
        "\n",
        "    return 0;\n",
        "}"
      ],
      "execution_count": 26,
      "outputs": [
        {
          "output_type": "stream",
          "name": "stdout",
          "text": [
            "Overwriting prime.cpp\n"
          ]
        }
      ]
    },
    {
      "cell_type": "code",
      "metadata": {
        "colab": {
          "base_uri": "https://localhost:8080/"
        },
        "id": "8FLJZwjAFgAy",
        "outputId": "8228d165-ca67-4a17-f82c-72f790de53bb"
      },
      "source": [
        "%%shell\n",
        "\n",
        "g++ prime.cpp -o output\n",
        "./output"
      ],
      "execution_count": 27,
      "outputs": [
        {
          "output_type": "stream",
          "name": "stdout",
          "text": [
            "Enter a positive integer: 29\n",
            "29 is a prime number"
          ]
        },
        {
          "output_type": "execute_result",
          "data": {
            "text/plain": [
              ""
            ]
          },
          "metadata": {},
          "execution_count": 27
        }
      ]
    },
    {
      "cell_type": "code",
      "metadata": {
        "colab": {
          "base_uri": "https://localhost:8080/"
        },
        "id": "o8BjyQG1Fi8f",
        "outputId": "32e8e44a-4263-4e81-9376-2276e7e36486"
      },
      "source": [
        "%%shell\n",
        "\n",
        "g++ prime.cpp -o output\n",
        "./output"
      ],
      "execution_count": 28,
      "outputs": [
        {
          "output_type": "stream",
          "name": "stdout",
          "text": [
            "Enter a positive integer: 22\n",
            "22 is not a prime number"
          ]
        },
        {
          "output_type": "execute_result",
          "data": {
            "text/plain": [
              ""
            ]
          },
          "metadata": {},
          "execution_count": 28
        }
      ]
    },
    {
      "cell_type": "code",
      "metadata": {
        "colab": {
          "base_uri": "https://localhost:8080/"
        },
        "id": "py8t9FpCFq_w",
        "outputId": "3989a361-7095-4802-9081-c818f1e2e0a7"
      },
      "source": [
        "\n",
        "%%writefile pyramid.cpp\n",
        "\n",
        "#include<iostream>\n",
        "using namespace std;\n",
        "int main()\n",
        "{\n",
        "int n = 5, s, i, j;\n",
        "cout << \"Enter number of rows: \";\n",
        "cin >> n;\n",
        "for(i = 1; i <= n; i++)\n",
        "{\n",
        "//for loop to put space\n",
        "for(s = i; s < n; s++)\n",
        "cout << \" \";\n",
        "//for loop for displaying star\n",
        "for(j = 1; j <= i; j++)\n",
        "cout << \"* \";\n",
        "// ending line after each row\n",
        "cout << \"\\n\";\n",
        "}\n",
        "return 0;\n",
        "}"
      ],
      "execution_count": 35,
      "outputs": [
        {
          "output_type": "stream",
          "name": "stdout",
          "text": [
            "Overwriting pyramid.cpp\n"
          ]
        }
      ]
    },
    {
      "cell_type": "code",
      "metadata": {
        "colab": {
          "base_uri": "https://localhost:8080/"
        },
        "id": "V0qPqjCNGW5F",
        "outputId": "c27a9720-b0fc-4506-93b1-27bd77ddee83"
      },
      "source": [
        "%%shell\n",
        "\n",
        "g++ pyramid.cpp -o output\n",
        "./output"
      ],
      "execution_count": 37,
      "outputs": [
        {
          "output_type": "stream",
          "name": "stdout",
          "text": [
            "Enter number of rows: 5\n",
            "    * \n",
            "   * * \n",
            "  * * * \n",
            " * * * * \n",
            "* * * * * \n"
          ]
        },
        {
          "output_type": "execute_result",
          "data": {
            "text/plain": [
              ""
            ]
          },
          "metadata": {},
          "execution_count": 37
        }
      ]
    },
    {
      "cell_type": "code",
      "metadata": {
        "colab": {
          "base_uri": "https://localhost:8080/"
        },
        "id": "GyjVCKpBGwwp",
        "outputId": "ed82c70b-1503-46f5-cfcc-06bd2724931b"
      },
      "source": [
        "%%writefile seclarno.cpp\n",
        "\n",
        "  \n",
        "#include<iostream>\n",
        "using namespace std;\n",
        "int main ()\n",
        "{\n",
        "    int A[10], n, i, j, x;\n",
        "    cout << \"Enter size of array : \";\n",
        "    cin >> n;\n",
        "    cout << \"Enter elements of array : \";\n",
        "    for (i = 0; i < n; i++)\n",
        "        cin >> A[i];    \n",
        "    for (i = 0; i < n; i++)\n",
        "    {\n",
        "        for (j = i + 1; j < n; j++)\n",
        "        {\n",
        "            if (A[i] < A[j])\n",
        "            {\n",
        "                x = A[i];\n",
        "                A[i] = A[j];\n",
        "                A[j] = x;\n",
        "            }\n",
        "        }\n",
        "    }\n",
        "    cout << \"Second largest number : \" << A[1];\n",
        "    return 0;\n",
        "}\n"
      ],
      "execution_count": 40,
      "outputs": [
        {
          "output_type": "stream",
          "name": "stdout",
          "text": [
            "Overwriting seclarno.cpp\n"
          ]
        }
      ]
    },
    {
      "cell_type": "code",
      "metadata": {
        "colab": {
          "base_uri": "https://localhost:8080/"
        },
        "id": "cJ6_bJJ3IwN6",
        "outputId": "a0b0b961-92e6-44a0-c785-86fd297a1a64"
      },
      "source": [
        "%%shell\n",
        "\n",
        "g++ seclarno.cpp -o output\n",
        "./output"
      ],
      "execution_count": 41,
      "outputs": [
        {
          "output_type": "stream",
          "name": "stdout",
          "text": [
            "Enter size of array : 3\n",
            "Enter elements of array : 66\n",
            "452\n",
            "55\n",
            "Second largest number : 66"
          ]
        },
        {
          "output_type": "execute_result",
          "data": {
            "text/plain": [
              ""
            ]
          },
          "metadata": {},
          "execution_count": 41
        }
      ]
    },
    {
      "cell_type": "code",
      "metadata": {
        "colab": {
          "base_uri": "https://localhost:8080/"
        },
        "id": "UESGNZWlI7C1",
        "outputId": "a344f170-46c4-4bf4-b162-195c29b96741"
      },
      "source": [
        "%%writefile leftshift.cpp\n",
        "\n",
        "#include <bits/stdc++.h>\n",
        "\n",
        "using namespace std;\n",
        "\n",
        "string ltrim(const string &);\n",
        "string rtrim(const string &);\n",
        "vector<string> split(const string &);\n",
        "\n",
        "/*\n",
        " * Complete the 'rotateLeft' function below.\n",
        " *\n",
        " * The function is expected to return an INTEGER_ARRAY.\n",
        " * The function accepts following parameters:\n",
        " *  1. INTEGER d\n",
        " *  2. INTEGER_ARRAY arr\n",
        " */\n",
        "\n",
        "vector<int> rotateLeft(int d, vector<int> arr) {\n",
        "    reverse(arr.begin(), arr.begin()+d);\n",
        "    reverse(arr.begin()+d, arr.end());   \n",
        "    reverse(arr.begin(), arr.end());\n",
        "    \n",
        "    return arr;\n",
        "\n",
        "}\n",
        "\n",
        "int main()\n",
        "{\n",
        "    ofstream fout(getenv(\"OUTPUT_PATH\"));\n",
        "\n",
        "    string first_multiple_input_temp;\n",
        "    getline(cin, first_multiple_input_temp);\n",
        "\n",
        "    vector<string> first_multiple_input = split(rtrim(first_multiple_input_temp));\n",
        "\n",
        "    int n = stoi(first_multiple_input[0]);\n",
        "\n",
        "    int d = stoi(first_multiple_input[1]);\n",
        "\n",
        "    string arr_temp_temp;\n",
        "    getline(cin, arr_temp_temp);\n",
        "\n",
        "    vector<string> arr_temp = split(rtrim(arr_temp_temp));\n",
        "\n",
        "    vector<int> arr(n);\n",
        "\n",
        "    for (int i = 0; i < n; i++) {\n",
        "        int arr_item = stoi(arr_temp[i]);\n",
        "\n",
        "        arr[i] = arr_item;\n",
        "    }\n",
        "\n",
        "    vector<int> result = rotateLeft(d, arr);\n",
        "\n",
        "    for (size_t i = 0; i < result.size(); i++) {\n",
        "        fout << result[i];\n",
        "\n",
        "        if (i != result.size() - 1) {\n",
        "            fout << \" \";\n",
        "        }\n",
        "    }\n",
        "\n",
        "    fout << \"\\n\";\n",
        "\n",
        "    fout.close();\n",
        "\n",
        "    return 0;\n",
        "}\n",
        "\n",
        "string ltrim(const string &str) {\n",
        "    string s(str);\n",
        "\n",
        "    s.erase(\n",
        "        s.begin(),\n",
        "        find_if(s.begin(), s.end(), not1(ptr_fun<int, int>(isspace)))\n",
        "    );\n",
        "\n",
        "    return s;\n",
        "}\n",
        "\n",
        "string rtrim(const string &str) {\n",
        "    string s(str);\n",
        "\n",
        "    s.erase(\n",
        "        find_if(s.rbegin(), s.rend(), not1(ptr_fun<int, int>(isspace))).base(),\n",
        "        s.end()\n",
        "    );\n",
        "\n",
        "    return s;\n",
        "}\n",
        "\n",
        "vector<string> split(const string &str) {\n",
        "    vector<string> tokens;\n",
        "\n",
        "    string::size_type start = 0;\n",
        "    string::size_type end = 0;\n",
        "\n",
        "    while ((end = str.find(\" \", start)) != string::npos) {\n",
        "        tokens.push_back(str.substr(start, end - start));\n",
        "\n",
        "        start = end + 1;\n",
        "    }\n",
        "\n",
        "    tokens.push_back(str.substr(start));\n",
        "\n",
        "    return tokens;\n",
        "}\n"
      ],
      "execution_count": 73,
      "outputs": [
        {
          "output_type": "stream",
          "name": "stdout",
          "text": [
            "Overwriting leftshift.cpp\n"
          ]
        }
      ]
    },
    {
      "cell_type": "code",
      "metadata": {
        "colab": {
          "base_uri": "https://localhost:8080/"
        },
        "id": "Pm8ToFFSMh_g",
        "outputId": "f1b94d16-7164-4eef-f4f3-dfeb5df32b99"
      },
      "source": [
        "%%shell\n",
        "\n",
        "g++ leftshift.cpp -o output\n",
        "./output"
      ],
      "execution_count": 77,
      "outputs": [
        {
          "output_type": "stream",
          "name": "stdout",
          "text": [
            "5 4\n",
            "1 2 3 4 5\n"
          ]
        },
        {
          "output_type": "execute_result",
          "data": {
            "text/plain": [
              ""
            ]
          },
          "metadata": {},
          "execution_count": 77
        }
      ]
    },
    {
      "cell_type": "code",
      "metadata": {
        "colab": {
          "base_uri": "https://localhost:8080/"
        },
        "id": "z09iGj_jGbo4",
        "outputId": "3d1800cc-f2d9-4ce9-b4e6-478927b27f16"
      },
      "source": [
        "%%writefile gradestudents.cpp\n",
        "\n",
        "#include <bits/stdc++.h>\n",
        "\n",
        "using namespace std;\n",
        "\n",
        "string ltrim(const string &);\n",
        "string rtrim(const string &);\n",
        "\n",
        "/*\n",
        " * Complete the 'gradingStudents' function below.\n",
        " *\n",
        " * The function is expected to return an INTEGER_ARRAY.\n",
        " * The function accepts INTEGER_ARRAY grades as parameter.\n",
        " */\n",
        "\n",
        "vector<int> gradingStudents(vector<int> grades) {\n",
        "    int n;\n",
        "    for(int& grade : grades)\n",
        "        if(grade >= 38) grade += ((grade  % 5) >= 3) ? 5 - (grade % 5) : 0;\n",
        "        \n",
        "    return grades;\n",
        "\n",
        "}\n",
        "\n",
        "int main()\n",
        "{\n",
        "    ofstream fout(getenv(\"OUTPUT_PATH\"));\n",
        "\n",
        "    string grades_count_temp;\n",
        "    getline(cin, grades_count_temp);\n",
        "\n",
        "    int grades_count = stoi(ltrim(rtrim(grades_count_temp)));\n",
        "\n",
        "    vector<int> grades(grades_count);\n",
        "\n",
        "    for (int i = 0; i < grades_count; i++) {\n",
        "        string grades_item_temp;\n",
        "        getline(cin, grades_item_temp);\n",
        "\n",
        "        int grades_item = stoi(ltrim(rtrim(grades_item_temp)));\n",
        "\n",
        "        grades[i] = grades_item;\n",
        "    }\n",
        "\n",
        "    vector<int> result = gradingStudents(grades);\n",
        "\n",
        "    for (size_t i = 0; i < result.size(); i++) {\n",
        "        fout << result[i];\n",
        "\n",
        "        if (i != result.size() - 1) {\n",
        "            fout << \"\\n\";\n",
        "        }\n",
        "    }\n",
        "\n",
        "    fout << \"\\n\";\n",
        "\n",
        "    fout.close();\n",
        "\n",
        "    return 0;\n",
        "}\n",
        "\n",
        "string ltrim(const string &str) {\n",
        "    string s(str);\n",
        "\n",
        "    s.erase(\n",
        "        s.begin(),\n",
        "        find_if(s.begin(), s.end(), not1(ptr_fun<int, int>(isspace)))\n",
        "    );\n",
        "\n",
        "    return s;\n",
        "}\n",
        "\n",
        "string rtrim(const string &str) {\n",
        "    string s(str);\n",
        "\n",
        "    s.erase(\n",
        "        find_if(s.rbegin(), s.rend(), not1(ptr_fun<int, int>(isspace))).base(),\n",
        "        s.end()\n",
        "    );\n",
        "\n",
        "    return s;\n",
        "}\n"
      ],
      "execution_count": 71,
      "outputs": [
        {
          "output_type": "stream",
          "name": "stdout",
          "text": [
            "Overwriting gradestudents.cpp\n"
          ]
        }
      ]
    },
    {
      "cell_type": "code",
      "metadata": {
        "colab": {
          "base_uri": "https://localhost:8080/"
        },
        "id": "Ua1s4ErPRW0Y",
        "outputId": "91315406-6852-4513-834d-538d52663b06"
      },
      "source": [
        "%%shell\n",
        "\n",
        "g++ gradestudents.cpp -o output\n",
        "./output"
      ],
      "execution_count": 72,
      "outputs": [
        {
          "output_type": "stream",
          "name": "stdout",
          "text": [
            "4\n",
            "73\n",
            "67\n",
            "38\n",
            "33\n"
          ]
        },
        {
          "output_type": "execute_result",
          "data": {
            "text/plain": [
              ""
            ]
          },
          "metadata": {},
          "execution_count": 72
        }
      ]
    },
    {
      "cell_type": "code",
      "metadata": {
        "colab": {
          "base_uri": "https://localhost:8080/"
        },
        "id": "BPVIEetnRRkF",
        "outputId": "e16407f4-98b3-49e8-be56-6f6f825559a3"
      },
      "source": [
        "\n",
        "%%writefile camelcase.cpp\n",
        "\n",
        "#include <bits/stdc++.h>\n",
        "\n",
        "using namespace std;\n",
        "\n",
        "/*\n",
        " * Complete the 'camelcase' function below.\n",
        " *\n",
        " * The function is expected to return an INTEGER.\n",
        " * The function accepts STRING s as parameter.\n",
        " */\n",
        "\n",
        "int camelcase(string& s) {\n",
        "    int words;\n",
        "    for(char&c : s)\n",
        "        if(int(c) >= 65 && int(c) <= 90)words++;\n",
        "        return ++words;\n",
        "   \n",
        "}\n",
        "\n",
        "int main()\n",
        "{\n",
        "    ofstream fout(getenv(\"OUTPUT_PATH\"));\n",
        "\n",
        "    string s;\n",
        "    getline(cin, s);\n",
        "\n",
        "    int result = camelcase(s);\n",
        "\n",
        "    fout << result << \"\\n\";\n",
        "\n",
        "    fout.close();\n",
        "\n",
        "    return 0;\n",
        "}\n"
      ],
      "execution_count": 78,
      "outputs": [
        {
          "output_type": "stream",
          "name": "stdout",
          "text": [
            "Writing camelcase.cpp\n"
          ]
        }
      ]
    },
    {
      "cell_type": "code",
      "metadata": {
        "colab": {
          "base_uri": "https://localhost:8080/"
        },
        "id": "fRnQg9uKiW2l",
        "outputId": "21892ff1-9d68-4016-ed3a-ebf39d1a499f"
      },
      "source": [
        "%%shell\n",
        "\n",
        "g++ camelcase.cpp -o output\n",
        "./output"
      ],
      "execution_count": 79,
      "outputs": [
        {
          "output_type": "stream",
          "name": "stdout",
          "text": [
            "saveChangesInTheEditor\n"
          ]
        },
        {
          "output_type": "execute_result",
          "data": {
            "text/plain": [
              ""
            ]
          },
          "metadata": {},
          "execution_count": 79
        }
      ]
    }
  ]
}